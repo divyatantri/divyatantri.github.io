{
 "cells": [
  {
   "cell_type": "markdown",
   "id": "6bfabc27",
   "metadata": {},
   "source": [
    "## This is a test notebook for homework 7"
   ]
  },
  {
   "cell_type": "code",
   "execution_count": 1,
   "id": "389a620b",
   "metadata": {},
   "outputs": [
    {
     "name": "stdout",
     "output_type": "stream",
     "text": [
      "This is a test notebook\n"
     ]
    }
   ],
   "source": [
    "print(\"This is a test notebook\")"
   ]
  },
  {
   "cell_type": "code",
   "execution_count": 3,
   "id": "46296754",
   "metadata": {},
   "outputs": [
    {
     "name": "stdout",
     "output_type": "stream",
     "text": [
      "Homework 7\n"
     ]
    }
   ],
   "source": [
    "print(\"Homework 7\")"
   ]
  },
  {
   "cell_type": "code",
   "execution_count": null,
   "id": "a5da4236",
   "metadata": {},
   "outputs": [],
   "source": []
  }
 ],
 "metadata": {
  "kernelspec": {
   "display_name": "Python 3 (ipykernel)",
   "language": "python",
   "name": "python3"
  },
  "language_info": {
   "codemirror_mode": {
    "name": "ipython",
    "version": 3
   },
   "file_extension": ".py",
   "mimetype": "text/x-python",
   "name": "python",
   "nbconvert_exporter": "python",
   "pygments_lexer": "ipython3",
   "version": "3.9.7"
  }
 },
 "nbformat": 4,
 "nbformat_minor": 5
}
