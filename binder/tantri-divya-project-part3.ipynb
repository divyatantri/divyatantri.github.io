{
 "cells": [
  {
   "cell_type": "markdown",
   "id": "9321b339",
   "metadata": {},
   "source": [
    "# Final Project Part 3\n",
    "\n",
    "## Team: Sushanth Sreenivasa Babu (ss142), Divya Tantri (dtantri2), Adit Rathi (arathi7)¶\n",
    "\n",
    "## Russia-Ukraine War Loss of Equipment and Personnel\n"
   ]
  },
  {
   "cell_type": "markdown",
   "id": "ca6627a4",
   "metadata": {},
   "source": [
    "The dashboard we have created here shows the losses with respect to equipment ranging from: aircraft, helicopter, tank, APC, field artillery, MRL, military auto, fuel tank, drone, naval ship, anti-aircraft warfare, special equipment, mobile SRBM system for the day of the week and shows what the day it is on the y axis. We have created a heatmap to show the day of the week and the days of the war. The dashboard also has the capability to populate a bar chart for the number of equipment loss when a portion of the heatmap is selected. This is part of our interactivity in the dashboard. Additionally, the heatmap also drives another plot that shows the cummulative personnel losses vs the equipment losses till the day selected."
   ]
  },
  {
   "cell_type": "markdown",
   "id": "43d72ea8",
   "metadata": {},
   "source": [
    "As mentioned in part 2 of the project, we have further analysed a twitter dataset consisting tweets related to the on going conflict. On Kaggle, we discovered this fascinating dataset. https://www.kaggle.com/datasets/bwandowando/ukraine-russian-crisis-twitter-dataset-1-2-million-rows This collection contains daily Twitter datasets related to the ongoing Ukraine-Russia conflict. The information includes whether a tweet was retweeted or not, as well as people's views on the Russia-Ukraine conflict. It can also assist us in gathering information from trustworthy or government sources. We have included two visualizations for this dataset that visualize the top languages in which the tweets have been made and top locations where the Russia-Ukraine is most discussed about on twitter. "
   ]
  },
  {
   "cell_type": "markdown",
   "id": "cbd5aaf1",
   "metadata": {},
   "source": [
    "Team member Divya Tantri worked on the central visualization with team mate Sushanth Sreenivasa.\n",
    "I learnt more about interactivity between plots and the limitations of a few packages.Our team has created a central visualization using matplotlib. I learnt more about data cleaning processes from team member Adit Rathi and learnt about drop down and bqplot interactivity from team member Sushanth Sreenivasa."
   ]
  },
  {
   "cell_type": "markdown",
   "id": "28bf143a",
   "metadata": {},
   "source": [
    "## Group work plan and Challenges faced and things we would like to do differently"
   ]
  },
  {
   "cell_type": "markdown",
   "id": "fe621d10",
   "metadata": {},
   "source": [
    "As per our group work plan, we decided to create a central visualization based on the equipment and personnel loss dataset. We decided to use the twiter dataset to add contextual visualizations. \n",
    "One of the major difficulties we faced was dealing with the twitter data. The dataset file consisted of multiple compresse csvs. It was an interesting challenge to figure out how to combine this in a single dataframe. Due to the magnitude of the data, the compilation time for just importing the data was almost 40 minutes. Hence, the team decided to drop unnecessary columns that reduced the size of the data set. We exported this dataset and visualized the clean data."
   ]
  },
  {
   "cell_type": "code",
   "execution_count": null,
   "id": "605d2336",
   "metadata": {},
   "outputs": [],
   "source": []
  },
  {
   "cell_type": "code",
   "execution_count": null,
   "id": "a084a86e",
   "metadata": {},
   "outputs": [],
   "source": [
    "import numpy as np\n",
    "import pandas as pd\n",
    "import datetime\n",
    "import ipywidgets as ipy\n",
    "import seaborn as sns\n",
    "import os\n",
    "import gc"
   ]
  },
  {
   "cell_type": "markdown",
   "id": "b2df607b",
   "metadata": {},
   "source": [
    "# Section 1"
   ]
  },
  {
   "cell_type": "markdown",
   "id": "e09a492b",
   "metadata": {},
   "source": [
    "Russia may have lost 25% of its original assault force in four weeks of warfare. These losses are not on the magnitude of World War II, but they are significant when compared to the Russian military's current strength. Although reinforcements and replacements can help to offset some of these losses, the loss of trained personnel will impede military operations and have a political impact. The dashboard indicates how losses have mount up on the Russian side as the war proceeded. This dashboard lets the user segregate the russian losses equipment wise as well as stats on loss of personelle. "
   ]
  },
  {
   "cell_type": "code",
   "execution_count": null,
   "id": "1c6b2016",
   "metadata": {},
   "outputs": [],
   "source": [
    "df = pd.read_csv(\"russia_losses_equipment.csv\") # Equipment data\n",
    "df1 = pd.read_csv(\"russia_losses_personnel.csv\") # Personnel data\n",
    "\n",
    "eq = df[[ 'aircraft', 'helicopter', 'tank', 'APC',\n",
    "       'field artillery', 'MRL', 'military auto', 'fuel tank', 'drone',\n",
    "       'naval ship', 'anti-aircraft warfare', 'special equipment',\n",
    "       'mobile SRBM system']] # Equipments\n",
    "\n",
    "df[\"Total\"] = eq.sum(axis=1) # Total Equipment loss\n",
    "\n",
    "# Merging the datasets into one dataframe\n",
    "df['personnel'] = df1['personnel']\n",
    "df['POW'] = df1['POW']\n",
    "df\n",
    "df['personnel loss per day'] = df['personnel'].diff() \n",
    "df['equipment loss per day'] = df['Total'].diff()\n",
    "df.loc[(df['personnel loss per day'].isnull()),\n",
    "       'personnel loss per day'] = df.loc[(df['personnel loss per day'].isnull()), 'personnel']\n",
    "df.loc[(df['equipment loss per day'].isnull()), \n",
    "       'equipment loss per day'] = df.loc[(df['equipment loss per day'].isnull()), 'Total']\n",
    "df['date'] = pd.to_datetime(df['date'])\n",
    "df['day_of_week'] = df['date'].apply(lambda x: x.strftime('%A'))\n",
    "df.head()"
   ]
  },
  {
   "cell_type": "code",
   "execution_count": null,
   "id": "70e794a1",
   "metadata": {},
   "outputs": [],
   "source": [
    "# Preping data for the heatmap\n",
    "df_heat = df.groupby(['day_of_week', 'day'])['equipment loss per day'].sum()\n",
    "df_heat = df_heat.unstack(level=0).round(2)\n",
    "df_heat.head()"
   ]
  },
  {
   "cell_type": "code",
   "execution_count": null,
   "id": "3380a29b",
   "metadata": {},
   "outputs": [],
   "source": [
    "#bar_plot - Cummulative Equipment Loss vs Equipment Type\n",
    "\n",
    "x_scs = bqplot.OrdinalScale()\n",
    "y_scs = bqplot.LinearScale() \n",
    "\n",
    "\n",
    "x_axs = bqplot.Axis(label='Equipment Type', scale=x_scs, tick_rotate=45)\n",
    "y_axs = bqplot.Axis(label='Cummulative Equipment Loss', scale=y_scs, \n",
    "                   orientation = 'vertical')\n",
    "\n",
    "\n",
    "barpl = bqplot.pyplot.bar(x = [], \n",
    "                         y = [],\n",
    "                         scales={'x':x_scs, 'y':y_scs})\n",
    "\n",
    "fig_barpl = bqplot.Figure(marks=[barpl], axes=[x_axs,y_axs])\n",
    "fig_barpl.layout.width='100%'"
   ]
  },
  {
   "cell_type": "code",
   "execution_count": null,
   "id": "9c9cb885",
   "metadata": {},
   "outputs": [],
   "source": [
    "#bar_plot - Cummulative Personnel Loss and Equipment Loss (Additional Plot for Group Submission)\n",
    "\n",
    "x_scs = bqplot.OrdinalScale()\n",
    "y_scs = bqplot.LinearScale() \n",
    "\n",
    "\n",
    "x_axs = bqplot.Axis(scale=x_scs)\n",
    "y_axs = bqplot.Axis(label='Cummulative Personnel Loss and Equipment Loss', scale=y_scs, \n",
    "                   orientation = 'vertical')\n",
    "\n",
    "\n",
    "barpl2 = bqplot.pyplot.bar(x = [], \n",
    "                         y = [],\n",
    "                         scales={'x':x_scs, 'y':y_scs}, colors = 'green')\n",
    "\n",
    "fig_barpl2 = bqplot.Figure(marks=[barpl2], axes=[x_axs,y_axs])\n",
    "fig_barpl2.layout.width='100%'"
   ]
  },
  {
   "cell_type": "code",
   "execution_count": null,
   "id": "b4eeafbd",
   "metadata": {},
   "outputs": [],
   "source": [
    "#Heatmap - day vs day of the week vs total equipment loss\n",
    "\n",
    "# barplot data manipulations\n",
    "def barp(a,b):\n",
    "    df_ = df[(df['day_of_week'] == b) & (df['day'] == a)]\n",
    "    return df_[['aircraft', 'helicopter', 'tank', 'APC', 'field artillery', \n",
    "                   'MRL', 'military auto', 'fuel tank', 'drone',\n",
    "                   'naval ship', 'anti-aircraft warfare', 'special equipment',\n",
    "                   'mobile SRBM system']]\n",
    "\n",
    "def barp2(a, b):\n",
    "    df_ = df[(df['day_of_week'] == b) & (df['day'] == a)]\n",
    "    return df_[[\"personnel\", \"Total\"]]\n",
    "\n",
    "col_sc = bqplot.ColorScale(scheme=\"Red\", \n",
    "                           min=np.nanmin(df_heat), \n",
    "                           max=np.nanmax(df_heat))\n",
    "x_sc = bqplot.OrdinalScale()\n",
    "y_sc = bqplot.OrdinalScale()\n",
    "\n",
    "# (2) create axis - for colors, x & y\n",
    "c_ax = bqplot.ColorAxis(scale = col_sc, \n",
    "                        orientation = 'vertical', \n",
    "                        side = 'right')\n",
    "\n",
    "x_ax = bqplot.Axis(scale = x_sc, label='Day of Week')\n",
    "y_ax = bqplot.Axis(scale = y_sc, \n",
    "                   orientation = 'vertical', \n",
    "                   label = 'Day')\n",
    "\n",
    "# (3) Marks\n",
    "heat_map = bqplot.GridHeatMap(color = df_heat.values,\n",
    "                              row = df_heat.index, column = df_heat.columns,\n",
    "                              scales = {'color': col_sc,\n",
    "                                        'row': y_sc,\n",
    "                                        'column': x_sc},\n",
    "                              interactions = {'click': 'select'},\n",
    "                              anchor_style = {'fill':'blue'}, \n",
    "                              selected_style = {'opacity': 1.0},\n",
    "                              unselected_style = {'opacity': 1.0})\n",
    "\n",
    "# (4) interactivity - label\n",
    "mySelectedLabel = ipy.Label()\n",
    "def get_data_value(change):\n",
    "    if len(change['owner'].selected) == 1: #only 1 selected\n",
    "        i,j = change['owner'].selected[0]\n",
    "        v = df_heat.values[i,j] # grab data value\n",
    "        mySelectedLabel.value = 'Equipment Loss = ' + str(v) \n",
    "        g = barp(df_heat.index[i], df_heat.columns[j])\n",
    "        k = barp2(df_heat.index[i], df_heat.columns[j])\n",
    "        barpl.x = ['aircraft', 'helicopter', 'tank', 'APC', 'field artillery', \n",
    "                   'MRL', 'military auto', 'fuel tank', 'drone',\n",
    "                   'naval ship', 'anti-aircraft warfare', 'special equipment',\n",
    "                   'mobile SRBM system']\n",
    "        barpl.y = g.values\n",
    "        barpl2.x = [\"personnel\", \"Total Equipment Loss\"]\n",
    "        barpl2.y = k.values\n",
    "        \n",
    "        \n",
    "# make sure we check out     \n",
    "heat_map.observe(get_data_value, 'selected')\n",
    "\n",
    "# (5) put it all together in a figure\n",
    "fig = bqplot.Figure(marks = [heat_map], axes = [c_ax, y_ax, x_ax])\n",
    "fig.layout.width='100%'\n",
    "# fig_barpl.layout.min_width = '800px'\n",
    "\n",
    "myDashboard1 = ipy.VBox([fig, fig_barpl, fig_barpl2])\n",
    "myDashboard = ipy.VBox([mySelectedLabel, myDashboard1])\n",
    "\n",
    "myDashboard # display the dashboard             "
   ]
  },
  {
   "cell_type": "code",
   "execution_count": null,
   "id": "b9f3d745",
   "metadata": {},
   "outputs": [],
   "source": [
    "import matplotlib.gridspec as gridspec\n",
    "import matplotlib as mpl\n",
    "\n",
    "def create_figure(plot1_f1,plot1_f2, plot2_f,plot3_f):\n",
    "    \n",
    "    with plt.style.context((\"seaborn\",\"ggplot\")):\n",
    "        fig = plt.figure(constrained_layout=False, figsize=(10, 8))\n",
    "        specs = gridspec.GridSpec(ncols=2, nrows=2, figure=fig) ## Declaring 2x2 figure.\n",
    "\n",
    "        ax1 = fig.add_subplot(specs[0, :]) ## First Row\n",
    "        ax2 = fig.add_subplot(specs[1, 0]) ## Second Row First Column\n",
    "        ax3 = fig.add_subplot(specs[1, 1]) ## Second Row Second Colums\n",
    "        \n",
    "        # First Graph - day vs total equipment\n",
    "        \n",
    "        ax1.bar(df[plot1_f1], df[plot1_f2],color = 'darkorange')\n",
    "\n",
    "        ax1.set_xlabel(plot1_f1)\n",
    "        ax1.set_ylabel(plot1_f2+\" Loss\")\n",
    "        ax1.set_title(plot1_f1+\" vs \"+plot1_f2+\" Loss\")\n",
    "\n",
    "        # Second Graph - day vs personnel loss\n",
    "    \n",
    "        ax2.plot(df[plot1_f1], df[plot2_f],color='red')\n",
    "        ax2.legend(labels=[plot2_f])\n",
    "\n",
    "        ax2.set_xlabel(plot1_f1)\n",
    "        ax2.set_ylabel(plot2_f)\n",
    "        ax2.set_title(plot1_f1+\" vs \"+plot2_f)\n",
    "\n",
    "        # Third Graph - Histogram\n",
    "        \n",
    "        ax3.hist(df[plot3_f],color='skyblue')\n",
    "    \n",
    "        ax3.set_xlabel(plot3_f)\n",
    "        ax3.set_ylabel(\"Count\")\n",
    "        ax3.set_title(\"Histogram of \"+ plot3_f)\n",
    "        \n",
    "        plt.close(fig)\n",
    "        return fig"
   ]
  },
  {
   "cell_type": "code",
   "execution_count": null,
   "id": "00536559",
   "metadata": {},
   "outputs": [],
   "source": [
    "import panel as pn\n",
    "pn.extension()\n",
    "\n",
    "kw = dict(plot1_f1=\"day\",\n",
    "          plot1_f2=[ 'Total','aircraft', 'helicopter', 'tank', 'APC',\n",
    "       'field artillery', 'MRL', 'military auto', 'fuel tank', 'drone',\n",
    "       'naval ship', 'anti-aircraft warfare', 'special equipment',\n",
    "       'mobile SRBM system'],\n",
    "          plot2_f=['personnel', 'POW'],\n",
    "          plot3_f=['personnel loss per day', 'equipment loss per day'])\n",
    "\n",
    "dash1 = pn.interact(create_figure, **kw)\n",
    "\n",
    "dash1 = pn.Column(\n",
    "                    pn.Row(dash1[0][0],dash1[0][1], align=\"center\"),\n",
    "                    pn.Row(dash1[0][2],dash1[0][3], align=\"center\"),\n",
    "                    dash1[1]\n",
    "                 )\n",
    "dash1"
   ]
  },
  {
   "cell_type": "markdown",
   "id": "33dad7bd",
   "metadata": {},
   "source": [
    "This interactive plot we have included here has 3 drop downs to include interactivity.\n",
    "The three plots included in this visualization have: 1. A bar chart that shows the loss of equipment in the Ukraine-Russia war vs the days of the war.\n",
    "The second plot shows the Prisioner of War and personnel taken over the days of war. This includes a drop down to switch between POW and personnel.\n",
    "The third plot shows the equipment loss per day and the personnel loss per day in the form of a histogram. There is a dropdown to switch between the two."
   ]
  },
  {
   "cell_type": "markdown",
   "id": "adb7c459",
   "metadata": {},
   "source": [
    "# Section 2"
   ]
  },
  {
   "cell_type": "markdown",
   "id": "b239149c",
   "metadata": {},
   "source": [
    "## Code used for Data Cleaning "
   ]
  },
  {
   "cell_type": "markdown",
   "id": "81baa575",
   "metadata": {},
   "source": [
    "csv_collection = []\n",
    "for dirname, _, filenames in os.walk('war_tweets'):\n",
    "    for filename in filenames:\n",
    "        fullpath= os.path.join(dirname, filename)\n",
    "        csv_collection.append(fullpath)\n",
    "        "
   ]
  },
  {
   "cell_type": "markdown",
   "id": "8fe77178",
   "metadata": {},
   "source": [
    "df = pd.read_csv(csv_collection.pop(),compression = 'gzip', index_col=0)\n",
    "for data in csv_collection:\n",
    "    try:\n",
    "        tmp = pd.read_csv(data, compression = 'gzip', index_col=0)\n",
    "    except:\n",
    "            tmp = pd.read_csv(data, index_col = 0)\n",
    "            df = pd.concat([df, tmp], axis=0)"
   ]
  },
  {
   "cell_type": "markdown",
   "id": "840b8986",
   "metadata": {},
   "source": [
    "df.drop(\"acctdesc\", axis=1, inplace=True)\n",
    "df.drop(\"text\", axis=1, inplace=True)\n",
    "df.drop(\"hashtags\", axis=1, inplace=True)"
   ]
  },
  {
   "cell_type": "code",
   "execution_count": null,
   "id": "45837920",
   "metadata": {},
   "outputs": [],
   "source": [
    "df2 = pd.read_csv(\"tweets_clean_data_test.csv\") # Clean data"
   ]
  },
  {
   "cell_type": "code",
   "execution_count": null,
   "id": "53a97086",
   "metadata": {
    "scrolled": true
   },
   "outputs": [],
   "source": [
    "df2.head()"
   ]
  },
  {
   "cell_type": "markdown",
   "id": "365218c4",
   "metadata": {},
   "source": [
    "## Languages most used for tweeting"
   ]
  },
  {
   "cell_type": "markdown",
   "id": "ba16a26e",
   "metadata": {},
   "source": [
    "Twitter is a platform used for several purposes. For sharing information, political point of views, announcements etc. It is a global platform with its users from different countries and different socio-cultural backgrounds.  Since the war broke out between the two countries, twitter has been flooded with tweets about the same. The languages most used for tweeting about this conflict are displayed below. English, German, Italian and French are the top languages that have been used in the tweets about the Russo-Ukranian war."
   ]
  },
  {
   "cell_type": "code",
   "execution_count": null,
   "id": "525b0852",
   "metadata": {},
   "outputs": [],
   "source": [
    "sns.barplot(x= df2.language.value_counts()[:5].index,y=df2.language.value_counts()[:5])"
   ]
  },
  {
   "cell_type": "markdown",
   "id": "b039723b",
   "metadata": {},
   "source": [
    "## Traffic Source Location"
   ]
  },
  {
   "cell_type": "markdown",
   "id": "df910111",
   "metadata": {},
   "source": [
    "The maximum number of tweets generated about this global issue were from the victim nation of Ukraine. As the visualization depicts, around 3500 tweets were generated from Ukraine during the initial days of the war. Despite of having a major blow to the network infrastructure, Ukrainians kept the world informed about the current situation of their home. Further, USA, UK, France and India generated the most traffic of tweets on this topic."
   ]
  },
  {
   "cell_type": "code",
   "execution_count": null,
   "id": "1310cbed",
   "metadata": {},
   "outputs": [],
   "source": [
    "sns.lineplot(x= df2.location.value_counts()[:10].index,y=df2.location.value_counts()[:10])\n",
    "plt.xticks(rotation=90)"
   ]
  },
  {
   "cell_type": "markdown",
   "id": "a5c364ba",
   "metadata": {},
   "source": [
    "## Users with most Retweets"
   ]
  },
  {
   "cell_type": "markdown",
   "id": "f15ac7cd",
   "metadata": {},
   "source": [
    "The following scatterplot indicates the top 10 users with most retweets. It is interesting to know that the user with most retweets has been retweeted around 80,000 times. "
   ]
  },
  {
   "cell_type": "code",
   "execution_count": null,
   "id": "c07ff11b",
   "metadata": {},
   "outputs": [],
   "source": [
    "sns.scatterplot(x= df2.username[:10],y=df2.retweetcount.value_counts()[:10])\n",
    "plt.xticks(rotation=90)"
   ]
  },
  {
   "cell_type": "markdown",
   "id": "799d0eb9",
   "metadata": {},
   "source": [
    "## REFERENCES"
   ]
  },
  {
   "cell_type": "markdown",
   "id": "e8287188",
   "metadata": {},
   "source": [
    "1. Primary dataset: This includes the equipment and personnel loss during the Ukraine-Russia war\n",
    "https://www.kaggle.com/datasets/piterfm/2022-ukraine-russian-war\n",
    "\n",
    "2. This is a dataset based on tweets about the ukraine-russia crisis\n",
    "https://www.kaggle.com/datasets/bwandowando/ukraine-russian-crisis-twitter-dataset-1-2-million-rows    "
   ]
  },
  {
   "cell_type": "code",
   "execution_count": null,
   "id": "5aefe027",
   "metadata": {},
   "outputs": [],
   "source": []
  }
 ],
 "metadata": {
  "kernelspec": {
   "display_name": "Python 3 (ipykernel)",
   "language": "python",
   "name": "python3"
  },
  "language_info": {
   "codemirror_mode": {
    "name": "ipython",
    "version": 3
   },
   "file_extension": ".py",
   "mimetype": "text/x-python",
   "name": "python",
   "nbconvert_exporter": "python",
   "pygments_lexer": "ipython3",
   "version": "3.10.2"
  }
 },
 "nbformat": 4,
 "nbformat_minor": 5
}
