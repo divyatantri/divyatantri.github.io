{
 "cells": [
  {
   "cell_type": "markdown",
   "id": "9321b339",
   "metadata": {},
   "source": [
    "# Russia-Ukraine Crisis: A Data-Driven Overview\n",
    "\n",
    "## Authors: Sushanth Sreenivasa Babu, Divya Tantri, Adit Rathi"
   ]
  },
  {
   "cell_type": "markdown",
   "id": "ca6627a4",
   "metadata": {},
   "source": [
    "The Ukrainian-Russian War dataset is being used by our team. The dataset includes Equipment Losses, Death Toll, Military Wounded, and Russian Prisoners of War.\n",
    "A considerable number of civilians, including children, had already been slaughtered by the Russian troops. Ukraine is engulfed in flames and missiles are being fired at it. This database is updated on a weekly basis."
   ]
  },
  {
   "cell_type": "markdown",
   "id": "64a9a3b8",
   "metadata": {},
   "source": [
    "The dataset name is: 2022 Ukraine Russia War\n",
    "We obtained this dataset from kaggle.\n",
    "* Link: https://www.kaggle.com/datasets/piterfm/2022-ukraine-russian-war?select=russia_losses_personnel.csv\n",
    "* The license of this dataset is CC BY-NC-SA 4.0\n",
    "* The user using this data is allowed to **Share** — copy and redistribute the material in any medium or format **Adapt** — remix, transform, and build upon the material\n",
    "* The russia_losses_equipment.csv file: 3.11 kB\n",
    "* The russia_losses_personnel.csv file: 1.53 kB"
   ]
  },
  {
   "cell_type": "markdown",
   "id": "43d72ea8",
   "metadata": {},
   "source": [
    "We also looked at a Twitter dataset containing tweets on the ongoing war. We found this amazing dataset on Kaggle. https://www.kaggle.com/datasets/bwandowando/ukraine-russian-crisis-twitter-dataset-1-2-million-rows This collection comprises daily Twitter datasets relating to the ongoing war between Ukraine and Russia. The data includes whether or not a tweet was retweeted and people's opinions on the Russia-Ukraine conflict. It can also help us collect information from reliable or government sources. For this dataset, we've included two visualizations that show the top languages used in tweets and the top areas where the Russia-Ukraine conflict is most discussed on Twitter."
   ]
  },
  {
   "cell_type": "markdown",
   "id": "861af42c",
   "metadata": {},
   "source": [
    "Team member Divya Tantri worked on the central visualization with team mate Sushanth Sreenivasa.\n",
    "I learnt more about interactivity between plots and the limitations of a few packages.Our team has created a central visualization using matplotlib. I learnt more about data cleaning processes from team member Adit Rathi and learnt about drop down and bqplot interactivity from team member Sushanth Sreenivasa."
   ]
  },
  {
   "cell_type": "code",
   "execution_count": null,
   "id": "a084a86e",
   "metadata": {},
   "outputs": [],
   "source": [
    "# Importing the required \n",
    "import numpy as np\n",
    "import pandas as pd\n",
    "import datetime\n",
    "import bqplot.pyplot\n",
    "import ipywidgets as ipy\n",
    "import seaborn as sns\n",
    "import matplotlib.pyplot as plt\n",
    "import os\n",
    "import gc"
   ]
  },
  {
   "cell_type": "markdown",
   "id": "b2df607b",
   "metadata": {},
   "source": [
    "# Section 1: Equipment and Personnel Losses"
   ]
  },
  {
   "cell_type": "markdown",
   "id": "e09a492b",
   "metadata": {},
   "source": [
    "Russia may have lost 25% of its original assault force in four weeks of warfare. These losses are not on the magnitude of World War II, but they are significant when compared to the Russian military's current strength. Although reinforcements and replacements can help to offset some of these losses, the loss of trained personnel will impede military operations and have a political impact. The dashboard indicates how losses have mount up on the Russian side as the war proceeded. This dashboard lets the user segregate the russian losses equipment wise as well as stats on loss of personell. "
   ]
  },
  {
   "cell_type": "code",
   "execution_count": null,
   "id": "1c6b2016",
   "metadata": {},
   "outputs": [],
   "source": [
    "df = pd.read_csv(\"russia_losses_equipment.csv\") # Equipment data\n",
    "df1 = pd.read_csv(\"russia_losses_personnel.csv\") # Personnel data\n",
    "\n",
    "eq = df[[ 'aircraft', 'helicopter', 'tank', 'APC',\n",
    "       'field artillery', 'MRL', 'military auto', 'fuel tank', 'drone',\n",
    "       'naval ship', 'anti-aircraft warfare', 'special equipment',\n",
    "       'mobile SRBM system']] # Equipments\n",
    "\n",
    "df[\"Total\"] = eq.sum(axis=1) # Total Equipment loss\n",
    "\n",
    "# Merging the datasets into one dataframe\n",
    "df['personnel'] = df1['personnel']\n",
    "df['POW'] = df1['POW']\n",
    "\n",
    "\n",
    "# Per day losses\n",
    "df['personnel loss per day'] = df['personnel'].diff() \n",
    "df['equipment loss per day'] = df['Total'].diff()\n",
    "df.loc[(df['personnel loss per day'].isnull()),\n",
    "       'personnel loss per day'] = df.loc[(df['personnel loss per day'].isnull()), 'personnel']\n",
    "df.loc[(df['equipment loss per day'].isnull()), \n",
    "       'equipment loss per day'] = df.loc[(df['equipment loss per day'].isnull()), 'Total']\n",
    "\n",
    "# day of the week\n",
    "df['date'] = pd.to_datetime(df['date'])\n",
    "df['day_of_week'] = df['date'].apply(lambda x: x.strftime('%A'))\n",
    "df.head()"
   ]
  },
  {
   "cell_type": "markdown",
   "id": "4667f829",
   "metadata": {},
   "source": [
    "Let's visualize the data and see the our initial trends and patterns"
   ]
  },
  {
   "cell_type": "code",
   "execution_count": null,
   "id": "e7b9f3ae",
   "metadata": {},
   "outputs": [],
   "source": [
    "columns = [ 'aircraft', 'helicopter', 'tank', 'APC',\n",
    "       'field artillery', 'MRL', 'military auto', 'fuel tank', 'drone',\n",
    "       'naval ship', 'anti-aircraft warfare', 'special equipment',\n",
    "       'mobile SRBM system'] # Equipment Columns"
   ]
  },
  {
   "cell_type": "markdown",
   "id": "3ec397fc",
   "metadata": {},
   "source": [
    "After doing some trials, we figured out that the 'APC', 'military auto', 'tank', and 'field artillery' equipments have the most losses and have a stark difference between the other equipment losses. We decided to plot these equipments separately so that we can analyze better. "
   ]
  },
  {
   "cell_type": "code",
   "execution_count": null,
   "id": "46b111a3",
   "metadata": {},
   "outputs": [],
   "source": [
    "req = ['APC', 'military auto', 'tank', 'field artillery'] # Equipment with most losses"
   ]
  },
  {
   "cell_type": "code",
   "execution_count": null,
   "id": "f11fb5bc",
   "metadata": {},
   "outputs": [],
   "source": [
    "sns.set_style(\"darkgrid\")\n",
    "plt.figure(figsize = (20,10))\n",
    "\n",
    "for column in req:\n",
    "    sns.lineplot(y=column, x='day', data=df)\n",
    "plt.legend(labels=req)\n",
    "plt.ylabel(\"Equipment Losses\")\n",
    "plt.xlabel(\"Day of the War\")\n",
    "plt.show()"
   ]
  },
  {
   "cell_type": "markdown",
   "id": "5c3f6aab",
   "metadata": {},
   "source": [
    "We can see that the loses in these equipments have been steadily rising since day 1 of the war and \"military auto\" seemed to have a spike from day 20-22."
   ]
  },
  {
   "cell_type": "markdown",
   "id": "9e9ce1ec",
   "metadata": {},
   "source": [
    "Now, let us look at the losses from all other equipments. We remove the equipments displayed earlier from out list and plot the trends of the remaining equipements."
   ]
  },
  {
   "cell_type": "code",
   "execution_count": null,
   "id": "83709dd4",
   "metadata": {},
   "outputs": [],
   "source": [
    "req2 = set(columns) - set(req) # removing earlier equipments"
   ]
  },
  {
   "cell_type": "code",
   "execution_count": null,
   "id": "0d329212",
   "metadata": {},
   "outputs": [],
   "source": [
    "sns.set_style(\"darkgrid\")\n",
    "plt.figure(figsize = (20,10))\n",
    "\n",
    "for column in req2:\n",
    "    sns.lineplot(y=column, x='day', data=df)\n",
    "plt.legend(labels=req2)\n",
    "plt.ylabel(\"Equipment Losses\")\n",
    "plt.xlabel(\"Day of the War\")\n",
    "plt.show()"
   ]
  },
  {
   "cell_type": "markdown",
   "id": "10cf1772",
   "metadata": {},
   "source": [
    "We tried to plot the correlation between the various equipment losses and its very evident that the losses increase with the number of days as these losses are cummulative."
   ]
  },
  {
   "cell_type": "code",
   "execution_count": null,
   "id": "3b9034f2",
   "metadata": {},
   "outputs": [],
   "source": [
    "sns.set_style(\"darkgrid\")\n",
    "\n",
    "plt.figure(figsize = (20,10))\n",
    "sns.heatmap(df.corr())\n",
    "plt.show()"
   ]
  },
  {
   "cell_type": "markdown",
   "id": "80457431",
   "metadata": {},
   "source": [
    "Now, we look to compare the personnel losses verus the prisioners of war. Looking that the plot, we can see that the prisoners of war is dwarfed by the personnel losses. It would be better to look at the prisoners of war in a separate visualization."
   ]
  },
  {
   "cell_type": "code",
   "execution_count": null,
   "id": "118fcb73",
   "metadata": {},
   "outputs": [],
   "source": [
    "plt.figure(figsize = (20,10))\n",
    "sns.barplot(y='personnel', x='day', data=df, color='red')\n",
    "sns.barplot(y='POW', x='day', data=df, color='green')\n",
    "plt.show()"
   ]
  },
  {
   "cell_type": "markdown",
   "id": "ccb79ffd",
   "metadata": {},
   "source": [
    "We see the trends in the cummulative prisoners of war which stay stagnant for a couple of days and then increases which should be a concerning statistic. "
   ]
  },
  {
   "cell_type": "code",
   "execution_count": null,
   "id": "6fcebc03",
   "metadata": {
    "scrolled": true
   },
   "outputs": [],
   "source": [
    "plt.figure(figsize = (20,10))\n",
    "sns.barplot(y='POW', x='day', data=df, color='green')\n",
    "plt.show()"
   ]
  },
  {
   "cell_type": "markdown",
   "id": "5021531a",
   "metadata": {},
   "source": [
    "For the below interactive plot we have included here has 3 drop downs to include interactivity.\n",
    "\n",
    "#### Dropdown 1: \n",
    "Total equipment loss, each individual equipment type loss\n",
    "\n",
    "#### Dropdown 2: \n",
    "Personnel and POW options\n",
    "\n",
    "#### Dropdown 3: \n",
    "Personnel loss and equipment loss\n",
    "\n",
    "The three plots included in this visualization have:\n",
    "\n",
    "#### Plot 1: \n",
    "This plot has a bar chart that shows the loss of equipment in the Ukraine-Russia war vs the days of the war. This is controlled. The x axis shows the days of the war. The y axis shows the loss of equipment. \n",
    "\n",
    "#### Plot 2: \n",
    "The second plot shows the Prisioner of War and personnel taken over the days of war. This includes a drop down to switch between POW and personnel. The x axis shows the day of the war. The y axis shows either POW or Personnel based on the dropdown.\n",
    "\n",
    "#### Plot 3:\n",
    "The third plot shows the equipment loss per day and the personnel loss per day in the form of a histogram. There is a dropdown to switch between the two. The x axis shows the equipment loss per day or the personnel loss per day based on the drop down selection. The y axis shows the count of loss.\n",
    "\n",
    "\n",
    "#### Findings:\n",
    "\n",
    "A user can can change the drop downs and understand how damage has cummlatively added up and is continuously increasing. \n",
    "\n",
    "A small drop in the day to day change in personnel loss might indicate that the war might have taken a step back. This is also evident from the total loss curve."
   ]
  },
  {
   "cell_type": "code",
   "execution_count": null,
   "id": "53046f35",
   "metadata": {},
   "outputs": [],
   "source": [
    "import matplotlib.gridspec as gridspec\n",
    "import matplotlib as mpl\n",
    "\n",
    "def create_figure(plot1_f1,plot1_f2, plot2_f,plot3_f):\n",
    "    \n",
    "    with plt.style.context((\"seaborn\",\"ggplot\")):\n",
    "        fig = plt.figure(constrained_layout=False, figsize=(10, 8))\n",
    "        specs = gridspec.GridSpec(ncols=2, nrows=2, figure=fig) ## Declaring 2x2 figure.\n",
    "\n",
    "        ax1 = fig.add_subplot(specs[0, :]) ## First Row\n",
    "        ax2 = fig.add_subplot(specs[1, 0]) ## Second Row First Column\n",
    "        ax3 = fig.add_subplot(specs[1, 1]) ## Second Row Second Colums\n",
    "        \n",
    "        # First Graph - day vs total equipment\n",
    "        \n",
    "        ax1.bar(df[plot1_f1], df[plot1_f2],color = 'darkorange')\n",
    "\n",
    "        ax1.set_xlabel(plot1_f1)\n",
    "        ax1.set_ylabel(plot1_f2+\" Loss\")\n",
    "        ax1.set_title(plot1_f1+\" vs \"+plot1_f2+\" Loss\")\n",
    "\n",
    "        # Second Graph - day vs personnel loss\n",
    "    \n",
    "        ax2.plot(df[plot1_f1], df[plot2_f],color='red')\n",
    "        ax2.legend(labels=[plot2_f])\n",
    "\n",
    "        ax2.set_xlabel(plot1_f1)\n",
    "        ax2.set_ylabel(plot2_f)\n",
    "        ax2.set_title(plot1_f1+\" vs \"+plot2_f)\n",
    "\n",
    "        # Third Graph - Histogram\n",
    "        \n",
    "        ax3.hist(df[plot3_f],color='skyblue')\n",
    "    \n",
    "        ax3.set_xlabel(plot3_f)\n",
    "        ax3.set_ylabel(\"Count\")\n",
    "        ax3.set_title(\"Histogram of \"+ plot3_f)\n",
    "        \n",
    "        plt.close(fig)\n",
    "        return fig"
   ]
  },
  {
   "cell_type": "code",
   "execution_count": null,
   "id": "a01983aa",
   "metadata": {
    "scrolled": true
   },
   "outputs": [],
   "source": [
    "import panel as pn\n",
    "pn.extension()\n",
    "\n",
    "kw = dict(plot1_f1=\"day\",\n",
    "          plot1_f2=[ 'Total','aircraft', 'helicopter', 'tank', 'APC',\n",
    "       'field artillery', 'MRL', 'military auto', 'fuel tank', 'drone',\n",
    "       'naval ship', 'anti-aircraft warfare', 'special equipment',\n",
    "       'mobile SRBM system'],\n",
    "          plot2_f=['personnel', 'POW'],\n",
    "          plot3_f=['personnel loss per day', 'equipment loss per day'])\n",
    "\n",
    "dash1 = pn.interact(create_figure, **kw)\n",
    "\n",
    "dash1 = pn.Column(\n",
    "                    pn.Row(dash1[0][0],dash1[0][1], align=\"center\"),\n",
    "                    pn.Row(dash1[0][2],dash1[0][3], align=\"center\"),\n",
    "                    dash1[1]\n",
    "                 )\n",
    "dash1"
   ]
  },
  {
   "cell_type": "markdown",
   "id": "ad06b117",
   "metadata": {},
   "source": [
    "We now prep the data to looks at losses per day and the day of the week. We created our bqplot interactivity by using the day and day of the week and creating a heatmap of the per day equipment losses. Using this, we made the heatmap interactive and it drills down into type of equipment losses and personnel vs equipment losses."
   ]
  },
  {
   "cell_type": "code",
   "execution_count": null,
   "id": "1c72edb0",
   "metadata": {},
   "outputs": [],
   "source": [
    "# Preping data for the heatmap\n",
    "df_heat = df.groupby(['day_of_week', 'day'])['equipment loss per day'].sum()\n",
    "df_heat = df_heat.unstack(level=0).round(2)\n",
    "df_heat.head()"
   ]
  },
  {
   "cell_type": "code",
   "execution_count": null,
   "id": "8df376be",
   "metadata": {},
   "outputs": [],
   "source": [
    "#bar_plot - Cummulative Equipment Loss vs Equipment Type\n",
    "\n",
    "x_scs = bqplot.OrdinalScale()\n",
    "y_scs = bqplot.LinearScale() \n",
    "\n",
    "\n",
    "x_axs = bqplot.Axis(label='Equipment Type', scale=x_scs, tick_rotate=45)\n",
    "y_axs = bqplot.Axis(label='Cummulative Equipment Loss', scale=y_scs, \n",
    "                   orientation = 'vertical')\n",
    "\n",
    "\n",
    "barpl = bqplot.pyplot.bar(x = [], \n",
    "                         y = [],\n",
    "                         scales={'x':x_scs, 'y':y_scs})\n",
    "\n",
    "fig_barpl = bqplot.Figure(marks=[barpl], axes=[x_axs,y_axs])\n",
    "fig_barpl.layout.width='100%'"
   ]
  },
  {
   "cell_type": "code",
   "execution_count": null,
   "id": "cecfe7fe",
   "metadata": {},
   "outputs": [],
   "source": [
    "#bar_plot - Cummulative Personnel Loss and Equipment Loss (Additional Plot for Group Submission)\n",
    "\n",
    "x_scs = bqplot.OrdinalScale()\n",
    "y_scs = bqplot.LinearScale() \n",
    "\n",
    "\n",
    "x_axs = bqplot.Axis(scale=x_scs)\n",
    "y_axs = bqplot.Axis(label='Cummulative Personnel Loss and Equipment Loss', scale=y_scs, \n",
    "                   orientation = 'vertical')\n",
    "\n",
    "\n",
    "barpl2 = bqplot.pyplot.bar(x = [], \n",
    "                         y = [],\n",
    "                         scales={'x':x_scs, 'y':y_scs}, colors = 'green')\n",
    "\n",
    "fig_barpl2 = bqplot.Figure(marks=[barpl2], axes=[x_axs,y_axs])\n",
    "fig_barpl2.layout.width='100%'"
   ]
  },
  {
   "cell_type": "code",
   "execution_count": null,
   "id": "a1fdc277",
   "metadata": {},
   "outputs": [],
   "source": [
    "#Heatmap - day vs day of the week vs total equipment loss\n",
    "\n",
    "# barplot data manipulations\n",
    "def barp(a,b):\n",
    "    df_ = df[(df['day_of_week'] == b) & (df['day'] == a)]\n",
    "    return df_[['aircraft', 'helicopter', 'tank', 'APC', 'field artillery', \n",
    "                   'MRL', 'military auto', 'fuel tank', 'drone',\n",
    "                   'naval ship', 'anti-aircraft warfare', 'special equipment',\n",
    "                   'mobile SRBM system']]\n",
    "\n",
    "def barp2(a, b):\n",
    "    df_ = df[(df['day_of_week'] == b) & (df['day'] == a)]\n",
    "    return df_[[\"personnel\", \"Total\"]]\n",
    "\n",
    "col_sc = bqplot.ColorScale(scheme=\"Red\", \n",
    "                           min=np.nanmin(df_heat), \n",
    "                           max=np.nanmax(df_heat))\n",
    "x_sc = bqplot.OrdinalScale()\n",
    "y_sc = bqplot.OrdinalScale()\n",
    "\n",
    "# (2) create axis - for colors, x & y\n",
    "c_ax = bqplot.ColorAxis(scale = col_sc, \n",
    "                        orientation = 'vertical', \n",
    "                        side = 'right')\n",
    "\n",
    "x_ax = bqplot.Axis(scale = x_sc, label='Day of Week')\n",
    "y_ax = bqplot.Axis(scale = y_sc, \n",
    "                   orientation = 'vertical', \n",
    "                   label = 'Day')\n",
    "\n",
    "# (3) Marks\n",
    "heat_map = bqplot.GridHeatMap(color = df_heat.values,\n",
    "                              row = df_heat.index, column = df_heat.columns,\n",
    "                              scales = {'color': col_sc,\n",
    "                                        'row': y_sc,\n",
    "                                        'column': x_sc},\n",
    "                              interactions = {'click': 'select'},\n",
    "                              anchor_style = {'fill':'blue'}, \n",
    "                              selected_style = {'opacity': 1.0},\n",
    "                              unselected_style = {'opacity': 1.0})\n",
    "\n",
    "# (4) interactivity - label\n",
    "mySelectedLabel = ipy.Label()\n",
    "def get_data_value(change):\n",
    "    if len(change['owner'].selected) == 1: #only 1 selected\n",
    "        i,j = change['owner'].selected[0]\n",
    "        v = df_heat.values[i,j] # grab data value\n",
    "        mySelectedLabel.value = 'Equipment Loss = ' + str(v) \n",
    "        g = barp(df_heat.index[i], df_heat.columns[j])\n",
    "        k = barp2(df_heat.index[i], df_heat.columns[j])\n",
    "        barpl.x = ['aircraft', 'helicopter', 'tank', 'APC', 'field artillery', \n",
    "                   'MRL', 'military auto', 'fuel tank', 'drone',\n",
    "                   'naval ship', 'anti-aircraft warfare', 'special equipment',\n",
    "                   'mobile SRBM system']\n",
    "        barpl.y = g.values\n",
    "        barpl2.x = [\"personnel\", \"Total Equipment Loss\"]\n",
    "        barpl2.y = k.values\n",
    "        \n",
    "        \n",
    "# make sure we check out     \n",
    "heat_map.observe(get_data_value, 'selected')\n",
    "\n",
    "# (5) put it all together in a figure\n",
    "fig = bqplot.Figure(marks = [heat_map], axes = [c_ax, y_ax, x_ax])\n",
    "fig.layout.width='100%'\n",
    "# fig_barpl.layout.min_width = '800px'\n",
    "\n",
    "myDashboard1 = ipy.VBox([fig, fig_barpl, fig_barpl2])\n",
    "myDashboard = ipy.VBox([mySelectedLabel, myDashboard1])\n",
    "\n",
    "myDashboard # display the dashboard             "
   ]
  },
  {
   "cell_type": "markdown",
   "id": "5e3c80bc",
   "metadata": {},
   "source": [
    "### Findings: \n",
    "\n",
    "The cummulative losses are starting to stagnate for both personnel and equipments, the most equipment losses are in the APC category followed by military auto. This dashboard helps use see which day of the week the losses are more and drills down into other loss categories."
   ]
  },
  {
   "cell_type": "markdown",
   "id": "adb7c459",
   "metadata": {},
   "source": [
    "# Section 2: Twitter Data"
   ]
  },
  {
   "cell_type": "markdown",
   "id": "b239149c",
   "metadata": {},
   "source": [
    "Under this section, we have gone ahead and used the twitter dataset to come up with contextual visualizations\n",
    "\n",
    "#### Code used for Data Cleaning "
   ]
  },
  {
   "cell_type": "markdown",
   "id": "dcca7973",
   "metadata": {},
   "source": [
    "We cleaned the code using the following program but have commented it out because of github size limitations on the data. We have uploaded the clean version on github which we load and make further analysis."
   ]
  },
  {
   "cell_type": "code",
   "execution_count": null,
   "id": "7f337fb8",
   "metadata": {},
   "outputs": [],
   "source": [
    "# csv_collection = []\n",
    "# for dirname, _, filenames in os.walk('war_tweets'):\n",
    "#     for filename in filenames:\n",
    "#         fullpath= os.path.join(dirname, filename)\n",
    "#         csv_collection.append(fullpath)\n",
    "     "
   ]
  },
  {
   "cell_type": "code",
   "execution_count": null,
   "id": "8b8f7b77",
   "metadata": {},
   "outputs": [],
   "source": [
    "# df = pd.read_csv(csv_collection.pop(),compression = 'gzip', index_col=0)\n",
    "# for data in csv_collection:\n",
    "#     try:\n",
    "#         tmp = pd.read_csv(data, compression = 'gzip', index_col=0)\n",
    "#     except:\n",
    "#             tmp = pd.read_csv(data, index_col = 0)\n",
    "#             df = pd.concat([df, tmp], axis=0)"
   ]
  },
  {
   "cell_type": "markdown",
   "id": "840b8986",
   "metadata": {},
   "source": [
    "<!-- df.drop(\"acctdesc\", axis=1, inplace=True)\n",
    "df.drop(\"text\", axis=1, inplace=True)\n",
    "df.drop(\"hashtags\", axis=1, inplace=True) -->"
   ]
  },
  {
   "cell_type": "code",
   "execution_count": null,
   "id": "45837920",
   "metadata": {},
   "outputs": [],
   "source": [
    "df2 = pd.read_csv(\"tweets_clean_data_test.csv\") # Clean data"
   ]
  },
  {
   "cell_type": "code",
   "execution_count": null,
   "id": "53a97086",
   "metadata": {
    "scrolled": true
   },
   "outputs": [],
   "source": [
    "df2.head()"
   ]
  },
  {
   "cell_type": "code",
   "execution_count": null,
   "id": "a94e5e38",
   "metadata": {},
   "outputs": [],
   "source": [
    "# Cleaning the location column\n",
    "counts = df2.groupby(['location']).count().reset_index().sort_values(['userid'], ascending=False)\n",
    "counts = counts[['location', 'userid']]\n",
    "\n",
    "# Cleaning duplicates\n",
    "counts.loc[counts['location'] == 'United States', 'location'] = 'USA'\n",
    "counts.loc[counts['location'] == 'London, England', 'location'] = 'United Kingdom'\n",
    "counts.loc[counts['location'] == 'Україна', 'location'] = 'Ukraine'\n",
    "counts.loc[counts['location'] == 'London', 'location'] = 'United Kingdom'\n",
    "counts.loc[counts['location'] == 'Paris, France', 'location'] = 'France'\n",
    "counts.loc[counts['location'] == 'Украина', 'location'] = 'Ukraine'\n",
    "counts.loc[counts['location'] == 'UK', 'location'] = 'United Kingdom'\n",
    "counts.loc[counts['location'] == 'Washington, DC', 'location'] = 'USA'\n",
    "counts.loc[counts['location'] == 'Berlin', 'location'] = 'Germany'\n",
    "counts.loc[counts['location'] == 'Deutschland', 'location'] = 'Germany'\n",
    "counts.loc[counts['location'] == 'Italia', 'location'] = 'Italy'\n",
    "\n",
    "counts = counts.groupby(['location']).sum().reset_index().sort_values(['userid'], ascending=False)"
   ]
  },
  {
   "cell_type": "markdown",
   "id": "365218c4",
   "metadata": {},
   "source": [
    "### Most Used Languages for Tweets"
   ]
  },
  {
   "cell_type": "markdown",
   "id": "ba16a26e",
   "metadata": {},
   "source": [
    "Twitter is a platform used for several purposes. For sharing information, political point of views, announcements etc. It is a global platform with its users from different countries and different socio-cultural backgrounds.  Since the war broke out between the two countries, twitter has been flooded with tweets about the same. The languages most used for tweeting about this conflict are displayed below. English, German, Italian and French are the top languages that have been used in the tweets about the Russo-Ukranian war."
   ]
  },
  {
   "cell_type": "code",
   "execution_count": null,
   "id": "525b0852",
   "metadata": {},
   "outputs": [],
   "source": [
    "plt.figure(figsize = (12,8))\n",
    "sns.barplot(x= df2.language.value_counts()[:5].index,y=df2.language.value_counts()[:5])\n",
    "plt.show()"
   ]
  },
  {
   "cell_type": "markdown",
   "id": "b039723b",
   "metadata": {},
   "source": [
    "### Traffic Source Location"
   ]
  },
  {
   "cell_type": "markdown",
   "id": "df910111",
   "metadata": {},
   "source": [
    "The maximum number of tweets generated about this global issue were from the victim nation of Ukraine. As the visualization depicts, around 3500 tweets were generated from Ukraine during the initial days of the war. Despite of having a major blow to the network infrastructure, Ukrainians kept the world informed about the current situation of their home. Further, USA, UK, Germany, France, Italy and India generated the most traffic of tweets on this topic."
   ]
  },
  {
   "cell_type": "code",
   "execution_count": null,
   "id": "3c3e978b",
   "metadata": {},
   "outputs": [],
   "source": [
    "import squarify\n",
    "\n",
    "colors = ['#fae588','#f79d65','#f9dc5c','#e8ac65','#e76f51','#ef233c','#b7094c', '#722F37'] #color palette\n",
    "\n",
    "plt.figure(figsize = (12,8))\n",
    "sizes = counts.userid[:8].values# proportions of the categories\n",
    "label = counts.location[:8]\n",
    "squarify.plot(sizes=sizes, label=label, alpha=0.6,color=colors).set(title='Treemap of Tweet Traffic Location')\n",
    "plt.axis('off')\n",
    "plt.show()"
   ]
  },
  {
   "cell_type": "markdown",
   "id": "a5c364ba",
   "metadata": {},
   "source": [
    "### Users with Most Retweets"
   ]
  },
  {
   "cell_type": "markdown",
   "id": "f15ac7cd",
   "metadata": {},
   "source": [
    "The following scatterplot indicates the top 10 users with most retweets. It is interesting to know that the user with most retweets has been retweeted around 80,000 times. "
   ]
  },
  {
   "cell_type": "code",
   "execution_count": null,
   "id": "d9d5fb92",
   "metadata": {
    "scrolled": true
   },
   "outputs": [],
   "source": [
    "plt.figure(figsize = (12,8))\n",
    "plt.pie(df2.retweetcount.value_counts()[:10],\n",
    "        labels=df2.username[:10],\n",
    "        startangle=90, autopct='%1.1f%%')\n",
    "plt.title('Users with Most Retweets', fontsize=28)\n",
    "plt.rcParams['font.size']=18\n",
    "plt.show()"
   ]
  },
  {
   "cell_type": "markdown",
   "id": "8a72e00b",
   "metadata": {},
   "source": [
    "# Conclusion\n",
    "\n",
    "Throughout the war's evolution, the losses of people and equipment were analyzed and visualized. The losses appear to be leveling off, and unfortunately, the number of prisoners of war and equipment losses continue to outnumber the number of personnel losses.\n",
    "\n",
    "Our visualizations assist readers in comprehending the development of the war in terms of losses and the severity of each day of the war. We were also able to observe which locations are talking about the war the most, and in which languages, using the twitter data. In general, to gain a basic idea of how the conflict is progressing."
   ]
  },
  {
   "cell_type": "markdown",
   "id": "fad8f1fe",
   "metadata": {},
   "source": [
    "## Group Work Plan, Challenges Faced & Things We'd Improve\n",
    "\n",
    "As per our group work plan, we decided to create a central visualization based on the equipment and personnel loss dataset. We decided to use the twiter dataset to add contextual visualizations. \n",
    "One of the major difficulties we faced was dealing with the twitter data. The dataset file consisted of multiple compressed csv files. It was an interesting challenge to figure out how to combine this in a single dataframe. Due to the magnitude of the data, the compilation time for just importing the data was almost 40 minutes. Hence, the team decided to drop unnecessary columns that reduced the size of the data set. We exported this dataset and visualized the clean data."
   ]
  },
  {
   "cell_type": "markdown",
   "id": "1b231416",
   "metadata": {},
   "source": [
    "## REFERENCES"
   ]
  },
  {
   "cell_type": "markdown",
   "id": "7fc4d88f",
   "metadata": {},
   "source": [
    "1. Primary dataset: This includes the equipment and personnel loss during the Ukraine-Russia war\n",
    "https://www.kaggle.com/datasets/piterfm/2022-ukraine-russian-war\n",
    "\n",
    "2. This is a dataset based on tweets about the ukraine-russia crisis\n",
    "https://www.kaggle.com/datasets/bwandowando/ukraine-russian-crisis-twitter-dataset-1-2-million-rows    "
   ]
  }
 ],
 "metadata": {
  "kernelspec": {
   "display_name": "Python 3 (ipykernel)",
   "language": "python",
   "name": "python3"
  },
  "language_info": {
   "codemirror_mode": {
    "name": "ipython",
    "version": 3
   },
   "file_extension": ".py",
   "mimetype": "text/x-python",
   "name": "python",
   "nbconvert_exporter": "python",
   "pygments_lexer": "ipython3",
   "version": "3.10.2"
  }
 },
 "nbformat": 4,
 "nbformat_minor": 5
}
