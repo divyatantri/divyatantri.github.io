{
 "cells": [
  {
   "cell_type": "markdown",
   "id": "dc5c3685",
   "metadata": {},
   "source": [
    "## This is a test notebook for homework 7"
   ]
  },
  {
   "cell_type": "code",
   "execution_count": 6,
   "id": "13fdcdb0",
   "metadata": {},
   "outputs": [],
   "source": [
    "import pandas as pd\n",
    "import numpy as np\n",
    "import traitlets\n",
    "import ipywidgets"
   ]
  },
  {
   "cell_type": "code",
   "execution_count": 7,
   "id": "3421ceb4",
   "metadata": {},
   "outputs": [
    {
     "name": "stdout",
     "output_type": "stream",
     "text": [
      "Homework 7\n"
     ]
    }
   ],
   "source": [
    "print(\"Homework 7\")"
   ]
  },
  {
   "cell_type": "code",
   "execution_count": 9,
   "id": "0174a5c9",
   "metadata": {},
   "outputs": [
    {
     "name": "stdout",
     "output_type": "stream",
     "text": [
      "This is a test notebook\n"
     ]
    }
   ],
   "source": [
    "print(\"This is a test notebook\")"
   ]
  },
  {
   "cell_type": "code",
   "execution_count": null,
   "id": "45fd9464",
   "metadata": {},
   "outputs": [],
   "source": []
  }
 ],
 "metadata": {
  "kernelspec": {
   "display_name": "Python 3 (ipykernel)",
   "language": "python",
   "name": "python3"
  },
  "language_info": {
   "codemirror_mode": {
    "name": "ipython",
    "version": 3
   },
   "file_extension": ".py",
   "mimetype": "text/x-python",
   "name": "python",
   "nbconvert_exporter": "python",
   "pygments_lexer": "ipython3",
   "version": "3.9.7"
  }
 },
 "nbformat": 4,
 "nbformat_minor": 5
}
